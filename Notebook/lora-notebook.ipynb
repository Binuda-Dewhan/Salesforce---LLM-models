{
 "cells": [
  {
   "cell_type": "markdown",
   "id": "966616d5",
   "metadata": {},
   "source": [
    "# Task 3 — LoRA Notes Formatter (Salesforce)\n",
    "Notebook to prepare a LoRA adapter that helps format raw meeting notes into Salesforce best-practice notes.\n"
   ]
  },
  {
   "cell_type": "code",
   "execution_count": null,
   "id": "8e4832d4",
   "metadata": {},
   "outputs": [],
   "source": [
    "# Import necessary libraries\n",
    "import torch\n",
    "from transformers import AutoTokenizer, AutoModelForCausalLM, Trainer, TrainingArguments\n",
    "from peft import get_peft_model, LoraConfig\n",
    "from datasets import load_dataset\n",
    "import json\n",
    "\n",
    "# Load the dataset\n",
    "with open(\"train.jsonl\") as f:\n",
    "    data = [json.loads(line) for line in f]\n",
    "\n",
    "# Prepare the data for training\n",
    "train_data = [{\"input_text\": example[\"input\"], \"output_text\": example[\"output\"]} for example in data]\n",
    "\n",
    "# Initialize tokenizer and model (Mistral model or a smaller variant)\n",
    "model_name = \"mistral-small-latest\"  # or \"open-mistral-7b\"\n",
    "tokenizer = AutoTokenizer.from_pretrained(model_name)\n",
    "model = AutoModelForCausalLM.from_pretrained(model_name)\n",
    "\n",
    "# Create LoRA configuration\n",
    "lora_config = LoraConfig(\n",
    "    r=8,  # rank of the low-rank matrix, which controls the extent of adaptation\n",
    "    lora_alpha=16,  # scaling factor for LoRA\n",
    "    lora_dropout=0.1,  # dropout to prevent overfitting\n",
    "    task_type=\"CAUSAL_LM\"\n",
    ")\n",
    "\n",
    "# Apply LoRA to the model\n",
    "model = get_peft_model(model, lora_config)\n",
    "\n",
    "# Tokenize the dataset (we use the input_text and output_text columns)\n",
    "def tokenize_function(examples):\n",
    "    return tokenizer(examples[\"input_text\"], examples[\"output_text\"], truncation=True, padding=\"max_length\", max_length=512)\n",
    "\n",
    "train_dataset = train_data.map(tokenize_function, batched=True)\n",
    "\n",
    "# Create the Trainer object for fine-tuning\n",
    "training_args = TrainingArguments(\n",
    "    output_dir=\"./results\", \n",
    "    evaluation_strategy=\"epoch\", \n",
    "    learning_rate=2e-5, \n",
    "    per_device_train_batch_size=4, \n",
    "    per_device_eval_batch_size=4, \n",
    "    num_train_epochs=1\n",
    ")\n",
    "\n",
    "trainer = Trainer(\n",
    "    model=model,\n",
    "    args=training_args,\n",
    "    train_dataset=train_dataset,\n",
    ")\n",
    "\n",
    "# Start training (this will run the fine-tuning process)\n",
    "trainer.train()\n"
   ]
  },
  {
   "cell_type": "code",
   "execution_count": null,
   "id": "58c92947",
   "metadata": {},
   "outputs": [],
   "source": [
    "import json\n",
    "import os\n",
    "from pathlib import Path\n",
    "from datasets import Dataset, load_dataset\n",
    "from transformers import AutoTokenizer, AutoModelForCausalLM, TrainingArguments, Trainer, DataCollatorForSeq2Seq\n",
    "from peft import LoraConfig, get_peft_model, prepare_model_for_kbit_training, PeftModel\n",
    "import torch\n",
    "\n",
    "# Notebook config\n",
    "BASE_MODEL = \"mistral-small-latest\"  # <<-- replace (e.g., \"mistral-small\" or a Llama variant)\n",
    "OUTPUT_DIR = \"./lora_adapter\"\n",
    "os.makedirs(OUTPUT_DIR, exist_ok=True)\n",
    "DEVICE = \"cuda\" if torch.cuda.is_available() else \"cpu\"\n",
    "print(\"Device:\", DEVICE)\n"
   ]
  },
  {
   "cell_type": "code",
   "execution_count": 1,
   "id": "d7c3bfe4",
   "metadata": {},
   "outputs": [],
   "source": [
    "BASE_MODEL = \"mistralai/Mistral-7B-Instruct-v0.1\"  # Or any other appropriate Mistral model\n"
   ]
  },
  {
   "cell_type": "code",
   "execution_count": 2,
   "id": "c84484aa",
   "metadata": {},
   "outputs": [],
   "source": [
    "from datasets import load_dataset\n",
    "\n",
    "# Load your train.jsonl dataset\n",
    "ds = load_dataset(\"json\", data_files=\"train.jsonl\")[\"train\"]\n"
   ]
  },
  {
   "cell_type": "code",
   "execution_count": 8,
   "id": "00bde995",
   "metadata": {},
   "outputs": [
    {
     "ename": "AttributeError",
     "evalue": "'DatasetDict' object has no attribute 'head'",
     "output_type": "error",
     "traceback": [
      "\u001b[31m---------------------------------------------------------------------------\u001b[39m",
      "\u001b[31mAttributeError\u001b[39m                            Traceback (most recent call last)",
      "\u001b[36mCell\u001b[39m\u001b[36m \u001b[39m\u001b[32mIn[8]\u001b[39m\u001b[32m, line 1\u001b[39m\n\u001b[32m----> \u001b[39m\u001b[32m1\u001b[39m \u001b[43mds\u001b[49m\u001b[43m.\u001b[49m\u001b[43mhead\u001b[49m()\n",
      "\u001b[31mAttributeError\u001b[39m: 'DatasetDict' object has no attribute 'head'"
     ]
    }
   ],
   "source": [
    "ds.head()"
   ]
  },
  {
   "cell_type": "code",
   "execution_count": 4,
   "id": "6a2af2f1",
   "metadata": {},
   "outputs": [],
   "source": [
    "def build_prompt(example):\n",
    "    return {\n",
    "        \"text_input\": f\"Format into Salesforce notes:\\n\\n{example['input']}\\n\\nFormatted:\",\n",
    "        \"text_target\": example[\"output\"]\n",
    "    }\n",
    "\n",
    "# Apply the formatting\n",
    "ds = ds.map(build_prompt)\n",
    "\n",
    "# Split dataset into training and testing\n",
    "ds = ds.train_test_split(test_size=0.2)\n"
   ]
  },
  {
   "cell_type": "code",
   "execution_count": 7,
   "id": "ac4d4a2d",
   "metadata": {},
   "outputs": [
    {
     "data": {
      "text/plain": [
       "DatasetDict({\n",
       "    train: Dataset({\n",
       "        features: ['input', 'output', 'text_input', 'text_target'],\n",
       "        num_rows: 8\n",
       "    })\n",
       "    test: Dataset({\n",
       "        features: ['input', 'output', 'text_input', 'text_target'],\n",
       "        num_rows: 2\n",
       "    })\n",
       "})"
      ]
     },
     "execution_count": 7,
     "metadata": {},
     "output_type": "execute_result"
    }
   ],
   "source": [
    "ds"
   ]
  },
  {
   "cell_type": "code",
   "execution_count": null,
   "id": "fad75e56",
   "metadata": {},
   "outputs": [],
   "source": [
    "from transformers import AutoTokenizer, AutoModelForCausalLM\n",
    "import torch\n",
    "from peft import LoraConfig, get_peft_model, prepare_model_for_kbit_training\n",
    "\n",
    "# Load tokenizer and model in 4-bit quantization\n",
    "tokenizer = AutoTokenizer.from_pretrained(BASE_MODEL)\n",
    "if tokenizer.pad_token is None:\n",
    "    tokenizer.add_special_tokens({\"pad_token\": \"<PAD>\"})\n",
    "\n",
    "model = AutoModelForCausalLM.from_pretrained(\n",
    "    BASE_MODEL,\n",
    "    load_in_4bit=True,         # Load model in 4-bit for reduced VRAM\n",
    "    device_map=\"auto\",         # Automatically place model on the appropriate device\n",
    "    torch_dtype=torch.float16  # Use float16 precision for reduced memory\n",
    ")\n",
    "\n",
    "# Prepare model for LoRA training\n",
    "model = prepare_model_for_kbit_training(model)\n"
   ]
  },
  {
   "cell_type": "code",
   "execution_count": null,
   "id": "25c25c07",
   "metadata": {},
   "outputs": [],
   "source": [
    "from transformers import AutoTokenizer, AutoModelForCausalLM, BitsAndBytesConfig\n",
    "import torch\n",
    "from peft import LoraConfig, get_peft_model, prepare_model_for_kbit_training\n",
    "\n",
    "# Load tokenizer\n",
    "tokenizer = AutoTokenizer.from_pretrained(BASE_MODEL)\n",
    "if tokenizer.pad_token is None:\n",
    "    tokenizer.add_special_tokens({\"pad_token\": \"<PAD>\"})\n",
    "\n",
    "# Use BitsAndBytesConfig for 4-bit quantization\n",
    "quantization_config = BitsAndBytesConfig(\n",
    "    load_in_4bit=True,      # Enable 4-bit quantization\n",
    "    bnb_4bit_compute_dtype=torch.float16,  # Use float16 for efficiency\n",
    "    llm_int8_enable_fp32_cpu_offload=True  # Enable offloading to CPU in FP32\n",
    ")\n",
    "\n",
    "# Load the smaller model with quantization config\n",
    "model = AutoModelForCausalLM.from_pretrained(\n",
    "    BASE_MODEL,\n",
    "    quantization_config=quantization_config,\n",
    "    device_map=\"auto\",  # Automatically distribute model to GPU/CPU\n",
    "    torch_dtype=torch.float16  # Use float16 precision\n",
    ")\n",
    "\n",
    "# Prepare model for LoRA training\n",
    "model = prepare_model_for_kbit_training(model)\n"
   ]
  },
  {
   "cell_type": "code",
   "execution_count": null,
   "id": "8505b4b9",
   "metadata": {},
   "outputs": [],
   "source": [
    "from transformers import AutoTokenizer, AutoModelForCausalLM, BitsAndBytesConfig\n",
    "import torch\n",
    "from peft import LoraConfig, get_peft_model, prepare_model_for_kbit_training\n",
    "\n",
    "# Load tokenizer\n",
    "tokenizer = AutoTokenizer.from_pretrained(BASE_MODEL)\n",
    "if tokenizer.pad_token is None:\n",
    "    tokenizer.add_special_tokens({\"pad_token\": \"<PAD>\"})\n",
    "\n",
    "# Use BitsAndBytesConfig for 4-bit quantization\n",
    "quantization_config = BitsAndBytesConfig(\n",
    "    load_in_4bit=True,      # Enable 4-bit quantization\n",
    "    bnb_4bit_compute_dtype=torch.float16,  # Use float16 for efficiency\n",
    "    llm_int8_enable_fp32_cpu_offload=True  # Enable offloading to CPU in FP32\n",
    ")\n",
    "\n",
    "# Load the smaller model with quantization config\n",
    "model = AutoModelForCausalLM.from_pretrained(\n",
    "    BASE_MODEL,\n",
    "    quantization_config=quantization_config,\n",
    "    device_map=\"auto\",  # Automatically distribute model to GPU/CPU\n",
    "    torch_dtype=torch.float16  # Use float16 precision\n",
    ")\n",
    "\n",
    "# Enable gradient checkpointing AFTER loading the model\n",
    "model.gradient_checkpointing_enable()  # This enables gradient checkpointing\n",
    "\n",
    "# Prepare the model for LoRA training\n",
    "model = prepare_model_for_kbit_training(model)\n"
   ]
  },
  {
   "cell_type": "code",
   "execution_count": null,
   "id": "4ba7b65e",
   "metadata": {},
   "outputs": [],
   "source": [
    "peft_config = LoraConfig(\n",
    "    r=4,                         # low rank → lighter\n",
    "    lora_alpha=16,\n",
    "    target_modules=[\"q_proj\",\"v_proj\"],  # attention layers\n",
    "    lora_dropout=0.1,\n",
    "    task_type=\"CAUSAL_LM\"\n",
    ")\n",
    "\n",
    "model = get_peft_model(model, peft_config)\n"
   ]
  },
  {
   "cell_type": "code",
   "execution_count": null,
   "id": "7b198502",
   "metadata": {},
   "outputs": [],
   "source": [
    "def tokenize_fn(batch):\n",
    "    model_inputs = tokenizer(batch[\"text_input\"], truncation=True, max_length=512)\n",
    "    labels = tokenizer(batch[\"text_target\"], truncation=True, max_length=512).input_ids\n",
    "    model_inputs[\"labels\"] = labels\n",
    "    return model_inputs\n",
    "\n",
    "tok_ds = ds.map(tokenize_fn, batched=True, remove_columns=ds.column_names)\n"
   ]
  },
  {
   "cell_type": "code",
   "execution_count": null,
   "id": "94062a07",
   "metadata": {},
   "outputs": [],
   "source": [
    "from transformers import TrainingArguments, Trainer, DataCollatorForSeq2Seq\n",
    "\n",
    "args = TrainingArguments(\n",
    "    output_dir=\"./mistral_lora\",\n",
    "    per_device_train_batch_size=1,   # tiny for VRAM\n",
    "    per_device_eval_batch_size=1,\n",
    "    gradient_accumulation_steps=4,   # effective batch size=4\n",
    "    num_train_epochs=1,              # demo run\n",
    "    learning_rate=2e-4,\n",
    "    fp16=True,\n",
    "    logging_steps=5,\n",
    "    save_strategy=\"no\"\n",
    ")\n",
    "\n",
    "collator = DataCollatorForSeq2Seq(tokenizer, pad_to_multiple_of=8, return_tensors=\"pt\")\n",
    "\n",
    "trainer = Trainer(\n",
    "    model=model,\n",
    "    args=args,\n",
    "    train_dataset=tok_ds[\"train\"],\n",
    "    eval_dataset=tok_ds[\"test\"],\n",
    "    data_collator=collator\n",
    ")\n",
    "\n",
    "trainer.train()\n"
   ]
  },
  {
   "cell_type": "code",
   "execution_count": null,
   "id": "8677ef4f",
   "metadata": {},
   "outputs": [],
   "source": [
    "model.save_pretrained(\"./mistral_lora\")\n",
    "tokenizer.save_pretrained(\"./mistral_lora\")\n"
   ]
  },
  {
   "cell_type": "code",
   "execution_count": null,
   "id": "2d2cd6fc",
   "metadata": {},
   "outputs": [],
   "source": [
    "from peft import PeftModel\n",
    "\n",
    "prompt = \"\"\"Format into Salesforce notes:\n",
    "\n",
    "RetailAxis – Merchandising Lead Sarah Gold: \n",
    "Struggling with inventory sync. Wants cloud migration plan. Will send inventory reports.\n",
    "\n",
    "Formatted:\"\"\"\n",
    "\n",
    "inputs = tokenizer(prompt, return_tensors=\"pt\").to(\"cuda\")\n",
    "\n",
    "# Load base model (no LoRA)\n",
    "base = AutoModelForCausalLM.from_pretrained(BASE_MODEL, load_in_4bit=True, device_map=\"auto\")\n",
    "out1 = base.generate(**inputs, max_new_tokens=256)\n",
    "print(\"BASE:\\n\", tokenizer.decode(out1[0], skip_special_tokens=True))\n",
    "\n",
    "# Load LoRA fine-tuned model\n",
    "lora = PeftModel.from_pretrained(base, \"./mistral_lora\")\n",
    "out2 = lora.generate(**inputs, max_new_tokens=256)\n",
    "print(\"LoRA:\\n\", tokenizer.decode(out2[0], skip_special_tokens=True))\n"
   ]
  }
 ],
 "metadata": {
  "kernelspec": {
   "display_name": "venv",
   "language": "python",
   "name": "python3"
  },
  "language_info": {
   "codemirror_mode": {
    "name": "ipython",
    "version": 3
   },
   "file_extension": ".py",
   "mimetype": "text/x-python",
   "name": "python",
   "nbconvert_exporter": "python",
   "pygments_lexer": "ipython3",
   "version": "3.13.5"
  }
 },
 "nbformat": 4,
 "nbformat_minor": 5
}
